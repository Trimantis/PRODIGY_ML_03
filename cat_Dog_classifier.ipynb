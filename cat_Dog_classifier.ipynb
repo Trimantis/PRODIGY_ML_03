{
 "cells": [
  {
   "cell_type": "code",
   "execution_count": 24,
   "id": "ee5a9802",
   "metadata": {},
   "outputs": [],
   "source": [
    "import os\n",
    "import numpy as np \n",
    "import cv2\n",
    "import matplotlib.pyplot as plt\n",
    "import pickle\n",
    "import random\n",
    "from sklearn.model_selection import train_test_split\n",
    "from sklearn.svm import SVC\n",
    "dir= 'C:\\\\Users\\\\Dell Pc\\\\OneDrive\\\\Desktop\\\\InternSHip\\\\Task 3\\\\dogs-vs-cats\\\\train'"
   ]
  },
  {
   "cell_type": "code",
   "execution_count": 26,
   "id": "1b662397",
   "metadata": {},
   "outputs": [],
   "source": [
    "categories=['cat','dog']\n",
    "data=[]"
   ]
  },
  {
   "cell_type": "code",
   "execution_count": 27,
   "id": "6bc9698e",
   "metadata": {},
   "outputs": [
    {
     "name": "stdout",
     "output_type": "stream",
     "text": [
      "1808\n"
     ]
    }
   ],
   "source": [
    "for category in categories:\n",
    "    path=os.path.join(dir,category)\n",
    "    label=categories.index(category)\n",
    "    \n",
    "    for img in os.listdir(path):\n",
    "        imgpath= os.path.join(path,img)\n",
    "        pet_img=cv2.imread(imgpath,0)\n",
    "        pet_img=cv2.resize(pet_img,(50,50))\n",
    "        image=np.array(pet_img).flatten()\n",
    "        \n",
    "        data.append([image,label])\n",
    "    \n",
    "print(len(data))\n",
    "pick_in=open('data1.pickle','wb')\n",
    "pickle.dump(data,pick_in)\n",
    "pick_in.close()"
   ]
  },
  {
   "cell_type": "code",
   "execution_count": 31,
   "id": "c5c8a1fb",
   "metadata": {},
   "outputs": [],
   "source": [
    "pick_in=open('data1.pickle','rb')\n",
    "data=pickle.load(pick_in)\n",
    "pick_in.close()\n",
    "\n",
    "random.shuffle(data)\n",
    "features=[]\n",
    "labels=[]\n",
    "\n",
    "for feature,label in data:\n",
    "    features.append(feature)\n",
    "    labels.append(label)\n"
   ]
  },
  {
   "cell_type": "code",
   "execution_count": 55,
   "id": "6467a2c6",
   "metadata": {},
   "outputs": [],
   "source": [
    "xtrain, xtest, ytrain,ytest=train_test_split(features,labels,test_size=0.05)\n",
    "#model=SVC(C=1, kernel='poly',gamma='auto')\n",
    "#model.fit(xtrain, ytrain)\n",
    "\n",
    "pick=open('medel.sav','rb')\n",
    "model=pickle.load(pick)\n",
    "pick.close()\n"
   ]
  },
  {
   "cell_type": "code",
   "execution_count": 88,
   "id": "c7cfdb35",
   "metadata": {},
   "outputs": [
    {
     "name": "stdout",
     "output_type": "stream",
     "text": [
      "Accuracy: 0.7912087912087912\n",
      "Prediction: dog\n"
     ]
    },
    {
     "data": {
      "image/png": "[encoded data removed]",
      "text/plain": [
       "<Figure size 640x480 with 1 Axes>"
      ]
     },
     "metadata": {},
     "output_type": "display_data"
    }
   ],
   "source": [
    "\n",
    "prediction=model.predict(xtest)\n",
    "accuracy=model.score(xtest,ytest)\n",
    "\n",
    "print('Accuracy:',accuracy)\n",
    "print('Prediction:',categories[prediction[0]])\n",
    "mypet=xtest[2].reshape(50,50)\n",
    "plt.imshow(mypet,cmap='gray')\n",
    "plt.show()"
   ]
  },
  {
   "cell_type": "code",
   "execution_count": null,
   "id": "f566757a",
   "metadata": {},
   "outputs": [],
   "source": []
  }
 ],
 "metadata": {
  "kernelspec": {
   "display_name": "Python 3 (ipykernel)",
   "language": "python",
   "name": "python3"
  },
  "language_info": {
   "codemirror_mode": {
    "name": "ipython",
    "version": 3
   },
   "file_extension": ".py",
   "mimetype": "text/x-python",
   "name": "python",
   "nbconvert_exporter": "python",
   "pygments_lexer": "ipython3",
   "version": "3.11.5"
  }
 },
 "nbformat": 4,
 "nbformat_minor": 5
}
